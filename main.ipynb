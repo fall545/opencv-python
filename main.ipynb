{
 "cells": [
  {
   "cell_type": "code",
   "execution_count": 2,
   "metadata": {},
   "outputs": [],
   "source": [
    "import numpy as np \n",
    "import cv2"
   ]
  },
  {
   "cell_type": "markdown",
   "metadata": {},
   "source": [
    "reshape返回 shape操作直接更改 resize"
   ]
  },
  {
   "cell_type": "code",
   "execution_count": 50,
   "metadata": {},
   "outputs": [
    {
     "name": "stdout",
     "output_type": "stream",
     "text": [
      "<class 'numpy.int64'>\n",
      "(2, 4)\n",
      "[[1 2]\n",
      " [3 4]\n",
      " [5 6]]\n"
     ]
    }
   ],
   "source": [
    "a=np.int64(1890)\n",
    "print(type(a))\n",
    "a=np.array([[1,2,3,4],[5,6,7,8]])\n",
    "print(a.shape)\n",
    "a.shape=(-1,2)\n",
    "a.resize(3,2)#更改\n",
    "print(a)\n",
    "b=np.zeros((3,2,1,2,21,21))"
   ]
  },
  {
   "cell_type": "code",
   "execution_count": 62,
   "metadata": {},
   "outputs": [
    {
     "name": "stdout",
     "output_type": "stream",
     "text": [
      "5505792\n",
      "uint8\n",
      "97\n"
     ]
    }
   ],
   "source": [
    "img=cv2.imread('test.png')\n",
    "img.shape\n",
    "print(img.size)\n",
    "a=np.zeros((50,50),dtype=np.uint8)\n",
    "print(a.dtype)\n",
    "# cv2.imwrite('my.jpg',a)\n",
    "cv2.imshow('p',img)\n",
    "key=cv2.waitKey(0)\n",
    "print(key)\n",
    "# cv2.destroyAllWindows()\n",
    "cv2.destroyWindow('p')"
   ]
  },
  {
   "cell_type": "code",
   "execution_count": null,
   "metadata": {},
   "outputs": [],
   "source": []
  }
 ],
 "metadata": {
  "kernelspec": {
   "display_name": "opencv",
   "language": "python",
   "name": "python3"
  },
  "language_info": {
   "codemirror_mode": {
    "name": "ipython",
    "version": 3
   },
   "file_extension": ".py",
   "mimetype": "text/x-python",
   "name": "python",
   "nbconvert_exporter": "python",
   "pygments_lexer": "ipython3",
   "version": "3.9.18"
  }
 },
 "nbformat": 4,
 "nbformat_minor": 2
}
